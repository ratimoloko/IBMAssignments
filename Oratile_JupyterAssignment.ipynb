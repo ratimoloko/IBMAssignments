{
 "cells": [
  {
   "cell_type": "markdown",
   "id": "4c0a004c-9e50-465e-9f33-69c64a457713",
   "metadata": {},
   "source": [
    "# My Jupyter Notebook on IBM Watson Studio"
   ]
  },
  {
   "cell_type": "markdown",
   "id": "29be98cd-e4ba-41a5-93f4-d6b1c1809868",
   "metadata": {},
   "source": [
    "**Oratile Moloko**\n",
    "\n",
    "  Data Analyst "
   ]
  },
  {
   "cell_type": "markdown",
   "id": "53867115-ad9c-4578-9353-3ca4aab6c045",
   "metadata": {},
   "source": [
    "_I am interested in data science because I believe that evidence-based policy making is critical to ensure that the world develops in a way that leaves no one behind_"
   ]
  },
  {
   "cell_type": "markdown",
   "id": "ba3869c9-b41f-45a7-bec5-761c8c86ddb4",
   "metadata": {},
   "source": [
    "### The code below will print the phrase \"I am using my time to do great and amazing things\""
   ]
  },
  {
   "cell_type": "code",
   "execution_count": 2,
   "id": "49a58baf-48e3-43ea-99e7-aa85361ccd34",
   "metadata": {},
   "outputs": [
    {
     "name": "stdout",
     "output_type": "stream",
     "text": [
      "I am using my time to do great and amazing things\n"
     ]
    }
   ],
   "source": [
    "print(\"I am using my time to do great and amazing things\")"
   ]
  },
  {
   "cell_type": "markdown",
   "id": "e3452318-01d0-42eb-88d1-ad3c183e931e",
   "metadata": {},
   "source": [
    "> Cast all your cares on God, for he cares for you. ** 1 Peter 5 :7 **\n",
    "\n",
    "_Worries to cast to God_\n",
    
    "|Small Worry| Moderate Worry | Huge Worry |\n",
    "|-----------|----------------|------------|\n",
    "|   Yes     |        Yes     |    Yes     |\n",
    "\n",
    
    "1. Rest\n",
    "2. Eat well\n",
    "3. Ex\n"
   ]
  }
 ],
 "metadata": {
  "kernelspec": {
   "display_name": "Python",
   "language": "python",
   "name": "conda-env-python-py"
  },
  "language_info": {
   "codemirror_mode": {
    "name": "ipython",
    "version": 3
   },
   "file_extension": ".py",
   "mimetype": "text/x-python",
   "name": "python",
   "nbconvert_exporter": "python",
   "pygments_lexer": "ipython3",
   "version": "3.7.12"
  }
 },
 "nbformat": 4,
 "nbformat_minor": 5
}
